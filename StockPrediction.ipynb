{
 "cells": [
  {
   "cell_type": "markdown",
   "metadata": {},
   "source": [
    "Importing required packages for the project"
   ]
  },
  {
   "cell_type": "code",
   "execution_count": null,
   "metadata": {},
   "outputs": [
    {
     "ename": "",
     "evalue": "",
     "output_type": "error",
     "traceback": [
      "\u001b[1;31mThe kernel failed to start due to the missing module 'typing_extensions'. Consider installing this module.\n",
      "\u001b[1;31mClick <a href='https://aka.ms/kernelFailuresMissingModule'>here</a> for more info."
     ]
    }
   ],
   "source": [
    "import numpy as np\n",
    "import pandas as pd\n",
    "import os\n",
    "\n",
    "import matplotlib.pyplot as plt\n",
    "%matplotlib inline\n",
    "from matplotlib.pylab import rcParams\n",
    "rcParams['figure.figsize'] = 20,10\n",
    "from sklearn.preprocessing import MinMaxScaler\n",
    "scaler = MinMaxScaler(feature_range=(0, 1))\n",
    "\n",
    "import sys\n",
    "import warnings\n",
    "import datetime as dt\n",
    "from keras.models import Sequential\n",
    "from keras.layers import Dense, Dropout, LSTM"
   ]
  },
  {
   "cell_type": "code",
   "execution_count": null,
   "metadata": {},
   "outputs": [
    {
     "ename": "",
     "evalue": "",
     "output_type": "error",
     "traceback": [
      "\u001b[1;31mThe kernel failed to start due to the missing module 'typing_extensions'. Consider installing this module.\n",
      "\u001b[1;31mClick <a href='https://aka.ms/kernelFailuresMissingModule'>here</a> for more info."
     ]
    }
   ],
   "source": [
    "from math import floor,ceil,sqrt\n",
    "from pmdarima.arima import auto_arima\n",
    "from sklearn.model_selection import GridSearchCV\n",
    "from sklearn.preprocessing import MinMaxScaler\n",
    "from prophet import Prophet\n",
    "from sklearn.metrics import r2_score"
   ]
  },
  {
   "cell_type": "code",
   "execution_count": null,
   "metadata": {},
   "outputs": [
    {
     "ename": "",
     "evalue": "",
     "output_type": "error",
     "traceback": [
      "\u001b[1;31mThe kernel failed to start due to the missing module 'typing_extensions'. Consider installing this module.\n",
      "\u001b[1;31mClick <a href='https://aka.ms/kernelFailuresMissingModule'>here</a> for more info."
     ]
    }
   ],
   "source": [
    "if not sys.warnoptions:\n",
    "    warnings.simplefilter(\"ignore\")\n"
   ]
  },
  {
   "cell_type": "markdown",
   "metadata": {},
   "source": [
    "Loading the data for the prediction"
   ]
  },
  {
   "cell_type": "code",
   "execution_count": null,
   "metadata": {},
   "outputs": [
    {
     "ename": "",
     "evalue": "",
     "output_type": "error",
     "traceback": [
      "\u001b[1;31mThe kernel failed to start due to the missing module 'typing_extensions'. Consider installing this module.\n",
      "\u001b[1;31mClick <a href='https://aka.ms/kernelFailuresMissingModule'>here</a> for more info."
     ]
    }
   ],
   "source": [
    "#Replace with your directory of MSFT.csv file\n",
    "df = pd.read_csv(\"C:/Users/Username/MSFT.csv\")\n",
    "df.head(10)"
   ]
  },
  {
   "cell_type": "markdown",
   "metadata": {},
   "source": [
    "Data preprocessing, changed the format of date column from YYYY-MM-DD to MM/DD/YYYY HH:MM:SS in excel."
   ]
  },
  {
   "cell_type": "code",
   "execution_count": null,
   "metadata": {},
   "outputs": [
    {
     "ename": "",
     "evalue": "",
     "output_type": "error",
     "traceback": [
      "\u001b[1;31mThe kernel failed to start due to the missing module 'typing_extensions'. Consider installing this module.\n",
      "\u001b[1;31mClick <a href='https://aka.ms/kernelFailuresMissingModule'>here</a> for more info."
     ]
    }
   ],
   "source": [
    "#Replace with your directory of MSFT.csv file\n",
    "df=pd.read_csv(\"C:/Users/Username/MSFT.csv\")\n",
    "df"
   ]
  },
  {
   "cell_type": "markdown",
   "metadata": {},
   "source": [
    "Data preprocessing, changed the format of date column from YYYY-MM-DD to MM/DD/YYYY HH:MM:SS, completing the action with pandas and indexing with date. Plotting the dataset."
   ]
  },
  {
   "cell_type": "code",
   "execution_count": null,
   "metadata": {},
   "outputs": [
    {
     "ename": "",
     "evalue": "",
     "output_type": "error",
     "traceback": [
      "\u001b[1;31mThe kernel failed to start due to the missing module 'typing_extensions'. Consider installing this module.\n",
      "\u001b[1;31mClick <a href='https://aka.ms/kernelFailuresMissingModule'>here</a> for more info."
     ]
    }
   ],
   "source": [
    "df['Date'] = pd.to_datetime(df.Date,format='%m/%d/%Y %H:%M:%S')\n",
    "df.index = df['Date']\n",
    "plt.figure(figsize=(14,7))\n",
    "plt.plot(df['Close'], label='Close Price history',color='r')\n",
    "plt.xlabel('Date',size=20)\n",
    "plt.ylabel('Stock Price',size=18)\n",
    "plt.title('Stock Price of Microsoft over the Years',size=23)"
   ]
  },
  {
   "cell_type": "code",
   "execution_count": null,
   "metadata": {},
   "outputs": [
    {
     "ename": "",
     "evalue": "",
     "output_type": "error",
     "traceback": [
      "\u001b[1;31mThe kernel failed to start due to the missing module 'typing_extensions'. Consider installing this module.\n",
      "\u001b[1;31mClick <a href='https://aka.ms/kernelFailuresMissingModule'>here</a> for more info."
     ]
    }
   ],
   "source": [
    "df.dtypes"
   ]
  },
  {
   "cell_type": "code",
   "execution_count": null,
   "metadata": {},
   "outputs": [
    {
     "ename": "",
     "evalue": "",
     "output_type": "error",
     "traceback": [
      "\u001b[1;31mThe kernel failed to start due to the missing module 'typing_extensions'. Consider installing this module.\n",
      "\u001b[1;31mClick <a href='https://aka.ms/kernelFailuresMissingModule'>here</a> for more info."
     ]
    }
   ],
   "source": [
    "df.isnull().sum()"
   ]
  },
  {
   "cell_type": "markdown",
   "metadata": {},
   "source": [
    "Moving average model for comparision purpose. RMSE and r2 score is used to evaluate the model performance. The prediction is plotted along with the actual values. The model is trained using the interquartile range in the data and tested against the fourth quartile "
   ]
  },
  {
   "cell_type": "code",
   "execution_count": null,
   "metadata": {},
   "outputs": [
    {
     "ename": "",
     "evalue": "",
     "output_type": "error",
     "traceback": [
      "\u001b[1;31mThe kernel failed to start due to the missing module 'typing_extensions'. Consider installing this module.\n",
      "\u001b[1;31mClick <a href='https://aka.ms/kernelFailuresMissingModule'>here</a> for more info."
     ]
    }
   ],
   "source": [
    "def Moving_Average_Prediction(df):\n",
    "    shape=df.shape[0]\n",
    "    df_new=df[['Close']]\n",
    "    df_new.head()\n",
    "    train__data_set=df_new.iloc[ceil(shape*0.25):ceil(shape*0.80)]\n",
    "    valid__data_set=df_new.iloc[ceil(shape*0.75):]\n",
    "    print(\"***** Microsoft Stock Price Prediction Using Moving Averages*********\")\n",
    "    print('Shape of Training Data Set of Microsft Stock Prices',train__data_set.shape)\n",
    "    print('Shape of Validating Data Set of Microsft Stock Prices',valid__data_set.shape)\n",
    "    preds = []\n",
    "    for i in range(0,valid__data_set.shape[0]):\n",
    "        a = train__data_set['Close'][len(train__data_set)-valid__data_set.shape[0]+i:].sum() + sum(preds)\n",
    "        b = a/(valid__data_set.shape[0])\n",
    "        preds.append(b)\n",
    "    RMS=np.sqrt(np.mean(np.power((np.array(valid__data_set['Close'])-preds),2)))\n",
    "    r2= r2_score(valid__data_set,preds)\n",
    "    print('(Root Mean Square Error) RMSE value on validation set:',RMS)\n",
    "    print('(R2 Score)R2 value on validation set:',r2)\n",
    "    valid__data_set['Predictions'] = preds\n",
    "    plt.plot(train__data_set['Close'])\n",
    "    plt.plot(valid__data_set[['Close', 'Predictions']])\n",
    "    plt.xlabel('Date',size=18)\n",
    "    plt.ylabel('Stock Price',size=18)\n",
    "    plt.title('Stock Price Prediction by Moving Averages',size=18)\n",
    "    plt.legend(['Model Training Data','Actual Data','Predicted Data'])"
   ]
  },
  {
   "cell_type": "code",
   "execution_count": null,
   "metadata": {},
   "outputs": [
    {
     "ename": "",
     "evalue": "",
     "output_type": "error",
     "traceback": [
      "\u001b[1;31mThe kernel failed to start due to the missing module 'typing_extensions'. Consider installing this module.\n",
      "\u001b[1;31mClick <a href='https://aka.ms/kernelFailuresMissingModule'>here</a> for more info."
     ]
    }
   ],
   "source": [
    "Moving_Average_Prediction(df)"
   ]
  },
  {
   "cell_type": "markdown",
   "metadata": {},
   "source": [
    "The project proposal LSTM model for predicting stock price data.  RMSE and r2 score is used to evaluate the model performance. The prediction is plotted along with the actual values. The model is trained using near interquartile range in the data and tested against the fourth quartile. It is trainned for one epoch by keeping batch size 1."
   ]
  },
  {
   "cell_type": "code",
   "execution_count": null,
   "metadata": {},
   "outputs": [
    {
     "ename": "",
     "evalue": "",
     "output_type": "error",
     "traceback": [
      "\u001b[1;31mThe kernel failed to start due to the missing module 'typing_extensions'. Consider installing this module.\n",
      "\u001b[1;31mClick <a href='https://aka.ms/kernelFailuresMissingModule'>here</a> for more info."
     ]
    }
   ],
   "source": [
    "def LSTM_Prediction(df):\n",
    "    shape=df.shape[0]\n",
    "    df_new=df[['Close']]\n",
    "    df_new.head()\n",
    "    dataset = df_new.values\n",
    "    train=df_new[ceil(shape*0.30):ceil(shape*0.80)]\n",
    "    valid=df_new[ceil(shape*0.75):]\n",
    "    print(\"******** Microsoft STOCK PRICE PREDICTION BY LONG SHORT TERM MEMORY (LSTM) *******\")\n",
    "    print('Shape of Training data Set',train.shape)\n",
    "    print('Shape of Validation data Set',valid.shape)\n",
    "    scaler = MinMaxScaler(feature_range=(0, 1))\n",
    "    scaled_data = scaler.fit_transform(dataset)\n",
    "    X_train, Y_train = [], []\n",
    "    for i in range(40,len(train)):\n",
    "        X_train.append(scaled_data[i-40:i,0])\n",
    "        Y_train.append(scaled_data[i,0])\n",
    "    X_train, Y_train = np.array(X_train), np.array(Y_train)\n",
    "    Y_train = np.reshape(X_train, (X_train.shape[0],X_train.shape[1],1))\n",
    "    Model = Sequential()\n",
    "    Model.add(LSTM(units=50, return_sequences=True, input_shape=(X_train.shape[1],1)))\n",
    "    Model.add(LSTM(units=50))\n",
    "    Model.add(Dense(1))\n",
    "    Model.compile(loss='mean_squared_error', optimizer='adam')\n",
    "    Model.fit(X_train, Y_train, epochs=1, batch_size=2, verbose=2)\n",
    "    inputs = df_new[len(df_new) - len(valid) - 40:].values\n",
    "    inputs = inputs.reshape(-1,1)\n",
    "    inputs  = scaler.transform(inputs)\n",
    "    X_test = []\n",
    "    for i in range(40,inputs.shape[0]):\n",
    "        X_test.append(inputs[i-40:i,0])\n",
    "    X_test = np.array(X_test)\n",
    "    X_test = np.reshape(X_test, (X_test.shape[0],X_test.shape[1],1))\n",
    "    closing_price = Model.predict(X_test)\n",
    "    closing_price = scaler.inverse_transform(closing_price)\n",
    "    RMS=np.sqrt(np.mean(np.power((valid-closing_price),2)))\n",
    "    r2 = r2_score(valid-closing_price ,closing_price )\n",
    "    print('(R2 score)R2 value on validation set:', r2)\n",
    "    print('(Root Neab Square Error) RMSE value on validation set:',RMS)\n",
    "    valid['Predictions'] = closing_price\n",
    "    plt.plot(train['Close'])\n",
    "    plt.plot(valid[['Close','Predictions']])\n",
    "    plt.xlabel('Date',size=20)\n",
    "    plt.ylabel('Stock Price',size=20)\n",
    "    plt.title('Microsoft Stock Price Prediction by Long Short Term Memory (LSTM)',size=20)\n",
    "    plt.legend(['Model Training Data','Actual Data','Predicted Data'])"
   ]
  },
  {
   "cell_type": "code",
   "execution_count": null,
   "metadata": {},
   "outputs": [
    {
     "ename": "",
     "evalue": "",
     "output_type": "error",
     "traceback": [
      "\u001b[1;31mThe kernel failed to start due to the missing module 'typing_extensions'. Consider installing this module.\n",
      "\u001b[1;31mClick <a href='https://aka.ms/kernelFailuresMissingModule'>here</a> for more info."
     ]
    }
   ],
   "source": [
    "LSTM_Prediction(df)"
   ]
  },
  {
   "cell_type": "markdown",
   "metadata": {},
   "source": [
    "Moving average performance metrices :\n",
    "    RMSE:48.88457740518917\n",
    "    r2:-1.0234099920313238\n",
    "\n",
    "LSTM performance metrices :\n",
    "    RMSE:7.440627\n",
    "    r2:-82.5785420245649"
   ]
  }
 ],
 "metadata": {
  "kernelspec": {
   "display_name": "Python 3 (ipykernel)",
   "language": "python",
   "name": "python3"
  },
  "language_info": {
   "codemirror_mode": {
    "name": "ipython",
    "version": 3
   },
   "file_extension": ".py",
   "mimetype": "text/x-python",
   "name": "python",
   "nbconvert_exporter": "python",
   "pygments_lexer": "ipython3",
   "version": "3.8.0"
  }
 },
 "nbformat": 4,
 "nbformat_minor": 2
}
